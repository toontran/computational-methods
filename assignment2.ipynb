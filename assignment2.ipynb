{
 "cells": [
  {
   "cell_type": "markdown",
   "metadata": {},
   "source": [
    "# Homework 2\n",
    "\n",
    "Contains exercise 2, 3, and 4 below"
   ]
  },
  {
   "cell_type": "code",
   "execution_count": 60,
   "metadata": {},
   "outputs": [],
   "source": [
    "import numpy as np\n",
    "def newton_method(f, f_prime, x0,\n",
    "         maxIt=10000,\n",
    "         rtol=1e-7,\n",
    "         atol=None,\n",
    "         maxval=1e10):\n",
    "    x = x0\n",
    "    print(x)\n",
    "    for i in range(maxIt):\n",
    "        if np.isinf(x) or np.isnan(x):\n",
    "            print(\"Number of iterations:\", i+1)\n",
    "            return x\n",
    "        fx = f(x) \n",
    "        fprimex = f_prime(x) \n",
    "        # print(fx/fprimex)\n",
    "        x_new = x - fx/fprimex\n",
    "        if rtol is not None and abs(x - x_new) <= rtol * abs(x):\n",
    "            print(\"Number of iterations:\", i+1)\n",
    "            return x_new\n",
    "        if atol is not None and abs(x - x_new) <= atol:\n",
    "            print(\"Number of iterations:\", i+1)\n",
    "            return x_new\n",
    "        if np.abs(x_new) > maxval:\n",
    "            print(\"Failed to converge, please consider other methods\")\n",
    "            return \n",
    "        x = x_new\n",
    "        print(x)\n",
    "    return x\n",
    "\n",
    "def secant_method(f, x0, x1, \n",
    "                  maxIt=10000, \n",
    "                  rtol=1e-7, \n",
    "                  atol=None,\n",
    "                  maxval=1e10):\n",
    "    print(x1)\n",
    "    for i in range(maxIt):\n",
    "        if np.isinf(x1) or np.isnan(x1):\n",
    "            print(\"Number of iterations:\", i+1)\n",
    "            return x\n",
    "        f_x0 = f(x0)\n",
    "        f_x1 = f(x1)\n",
    "        if f_x1 - f_x0 == 0:\n",
    "            return x1  # Prevents division by zero\n",
    "        x_new = x1 - f_x1 * (x1 - x0) / (f_x1 - f_x0)\n",
    "        \n",
    "        # Check for convergence\n",
    "        if rtol is not None and abs(x_new - x1) <= rtol * abs(x1):\n",
    "            print(\"Number of iterations:\", i+1)\n",
    "            return x_new\n",
    "        if atol is not None and abs(x_new - x1) <= atol:\n",
    "            print(\"Number of iterations:\", i+1)\n",
    "            return x_new\n",
    "        if np.abs(x_new) > maxval:\n",
    "            print(\"Failed to converge, please consider other methods\")\n",
    "            return\n",
    "        x = x_new\n",
    "        # Prepare for the next iteration\n",
    "        x0, x1 = x1, x_new\n",
    "        print(x1)\n",
    "    return x1\n",
    "\n",
    "def plain_method(phi, x0, \n",
    "         maxIt=10000,\n",
    "         rtol=1e-7,\n",
    "         atol=None):\n",
    "    x = x0\n",
    "    print(x)\n",
    "    for i in range(maxIt):\n",
    "        if np.isinf(x) or np.isnan(x):\n",
    "            print(\"Number of iterations:\", i+1)\n",
    "            return x\n",
    "        x_new = phi(x)\n",
    "        if rtol is not None and abs(x - x_new) <= rtol * abs(x):\n",
    "            print(\"Number of iterations:\", i+1)\n",
    "            return x_new\n",
    "        if atol is not None and abs(x - x_new) <= atol:\n",
    "            print(\"Number of iterations:\", i+1)\n",
    "            return x_new\n",
    "        x = x_new\n",
    "        print(x)\n",
    "    print(\"Number of iterations:\", i+1)\n",
    "    return x\n",
    "\n",
    "#initial values\n",
    "# x0 = -1.2\n",
    "# f = lambda x: 2*x**3 + x**2 - x + 1\n",
    "# f_prime = lambda x: 6*x**2 + 2*x - 1\n",
    "# x = newton_method(f, f_prime, x0)\n",
    "# # print(x)\n",
    "\n",
    "# x1 = -1.5\n",
    "# x = secant_method(f, x0, x1)\n",
    "# # print(x)\n",
    "\n",
    "# x0 = -1.2\n",
    "# phi = lambda p: 2*x**3 + x**2 + 1\n",
    "# x = plain_method(phi, x0)\n",
    "# print(x)"
   ]
  },
  {
   "cell_type": "markdown",
   "metadata": {},
   "source": [
    "## Exercise 2"
   ]
  },
  {
   "cell_type": "code",
   "execution_count": 65,
   "metadata": {},
   "outputs": [
    {
     "name": "stdout",
     "output_type": "stream",
     "text": [
      "1.0\n",
      "0.3678794411714424\n",
      "0.6922006275553463\n",
      "0.5004735005636369\n",
      "0.6062435350855973\n",
      "0.545395785975027\n",
      "0.5796123355033788\n",
      "0.5601154613610893\n",
      "0.5711431150801769\n",
      "0.5648793473910496\n",
      "0.5684287250290607\n",
      "0.5664147331468833\n",
      "0.5675566373282835\n",
      "0.5669089119214953\n",
      "0.5672762321755697\n",
      "0.5670678983907884\n",
      "0.5671860500993571\n",
      "0.5671190400572149\n",
      "0.5671570440012975\n",
      "0.5671354902062784\n",
      "0.5671477142601193\n",
      "0.567140781458298\n",
      "0.5671447133465701\n",
      "0.567142483401307\n",
      "0.5671437480994116\n",
      "0.5671430308342419\n",
      "0.56714343762633\n",
      "0.5671432069169137\n",
      "0.567143337762207\n",
      "0.5671432635541754\n",
      "Number of iterations: 30\n",
      "Estimated convergence rate: 0.5671432817716369\n",
      "\n",
      "1.0\n",
      "0.5378828427399902\n",
      "0.5669869914054132\n",
      "0.567143285989123\n",
      "Number of iterations: 4\n",
      "Estimated convergence rate: 0.0\n"
     ]
    }
   ],
   "source": [
    "x0 = 1.0\n",
    "phi = lambda x: np.exp(-x)\n",
    "x = plain_method(phi, x0)\n",
    "phi_prime = lambda x: -np.exp(-x)\n",
    "print(f\"Estimated convergence rate: {np.abs(phi_prime(x))}\")\n",
    "\n",
    "f = lambda x: np.exp(-x) - x\n",
    "f_prime = lambda x: -np.exp(-x) - 1\n",
    "f_pp = lambda x: np.exp(-x)\n",
    "x = newton_method(f, f_prime, x0)\n",
    "\n",
    "phi_newton_prime = lambda x: 1 - (f_prime(x)**2 - f_pp(x) * f(x)) / (f_prime(x)**2)\n",
    "print(f\"Estimated convergence rate: {np.abs(phi_newton_prime(x))}\")"
   ]
  },
  {
   "cell_type": "code",
   "execution_count": 73,
   "metadata": {},
   "outputs": [
    {
     "name": "stdout",
     "output_type": "stream",
     "text": [
      "0.99\n",
      "0.9799496641464985\n",
      "0.9596955923940312\n",
      "0.9185564563334963\n",
      "0.8336045459134537\n",
      "0.6516083912666217\n",
      "0.2232968668708632\n",
      "-1.2759562843942145\n",
      "nan\n",
      "Number of iterations: 9\n",
      "Does not converge!\n",
      "\n",
      "0.99\n",
      "0.9999498324949664\n",
      "0.9999999987415896\n",
      "Number of iterations: 3\n",
      "Estimated convergence rate: 0.0\n"
     ]
    },
    {
     "name": "stderr",
     "output_type": "stream",
     "text": [
      "/tmp/ipykernel_514536/3549274219.py:2: RuntimeWarning: invalid value encountered in log\n",
      "  phi = lambda x: np.log(x) + x\n"
     ]
    }
   ],
   "source": [
    "x0 = 0.99\n",
    "phi = lambda x: np.log(x) + x\n",
    "x = plain_method(phi, x0)\n",
    "print(\"Does not converge!\")\n",
    "print()\n",
    "# print(x)\n",
    "\n",
    "f = lambda x: np.log(x)\n",
    "f_prime = lambda x: 1/x\n",
    "f_pp = lambda x: -1/x**2\n",
    "x = newton_method(f, f_prime, x0)\n",
    "# print(x)\n",
    "\n",
    "phi_newton_prime = lambda x: 1 - (f_prime(x)**2 - f_pp(x) * f(x)) / (f_prime(x)**2)\n",
    "print(f\"Estimated convergence rate: {np.abs(phi_newton_prime(x))}\")"
   ]
  },
  {
   "cell_type": "code",
   "execution_count": 71,
   "metadata": {},
   "outputs": [
    {
     "name": "stdout",
     "output_type": "stream",
     "text": [
      "0.6\n",
      "1.7710321966877254\n",
      "1.0203876613187368\n",
      "1.1732808563086\n",
      "1.0845685004585968\n",
      "1.1310913886823522\n",
      "1.1051222054286303\n",
      "1.1191702922687208\n",
      "1.1114338674276778\n",
      "1.1156538672706653\n",
      "1.1133397532231986\n",
      "1.114605091720907\n",
      "1.1139121198157071\n",
      "1.1142913032064763\n",
      "1.1140837217303448\n",
      "1.114197331430371\n",
      "1.1141351438279623\n",
      "1.1141691813951862\n",
      "1.1141505505885163\n",
      "1.1141607481118845\n",
      "1.114155166453072\n",
      "1.1141582215770431\n",
      "1.114156549346909\n",
      "1.1141574646445571\n",
      "1.1141569636544575\n",
      "1.1141572378722746\n",
      "1.114157087778616\n",
      "Number of iterations: 27\n",
      "Estimated convergence rate: 0.49126988418928985\n",
      "\n",
      "0.6\n",
      "1.2238791881854745\n",
      "1.1125912707848338\n",
      "1.1141570395376958\n",
      "Number of iterations: 4\n",
      "Estimated convergence rate: 0.0\n"
     ]
    }
   ],
   "source": [
    "x0 = 0.6\n",
    "phi = lambda x: 1/np.sin(x)\n",
    "x = plain_method(phi, x0)\n",
    "phi_prime = lambda x: -np.cos(x) / np.sin(x)\n",
    "print(f\"Estimated convergence rate: {np.abs(phi_prime(x))}\")\n",
    "print()\n",
    "# print(x)\n",
    "\n",
    "f = lambda x: x*np.sin(x) - 1\n",
    "f_prime = lambda x: np.sin(x) + x*np.cos(x)\n",
    "f_pp = lambda x: np.cos(x) + np.cos(x) - x*np.sin(x)\n",
    "x = newton_method(f, f_prime, x0)\n",
    "# print(x\n",
    "\n",
    "phi_newton_prime = lambda x: 1 - (f_prime(x)**2 - f_pp(x) * f(x)) / (f_prime(x)**2)\n",
    "print(f\"Estimated convergence rate: {np.abs(phi_newton_prime(x))}\")"
   ]
  },
  {
   "cell_type": "markdown",
   "metadata": {},
   "source": [
    "## Exercise 3"
   ]
  },
  {
   "cell_type": "code",
   "execution_count": 51,
   "metadata": {},
   "outputs": [
    {
     "name": "stdout",
     "output_type": "stream",
     "text": [
      "0.1\n",
      "-0.07\n",
      "0.17\n",
      "-0.0833\n",
      "0.2533\n",
      "-0.060817329999999975\n",
      "0.31411733\n",
      "-0.018108238981013318\n",
      "0.3322255689810133\n",
      "-0.0011040829267392192\n",
      "0.3333296519077525\n",
      "-3.681384922141448e-06\n",
      "0.3333333332926746\n",
      "-4.065873562764031e-11\n",
      "Number of iterations: 7\n",
      "0.11000000000000001\n",
      "0.177\n",
      "0.22859000000000002\n",
      "0.28420871000000003\n",
      "0.3178969029433\n",
      "0.3310584068477685\n",
      "0.33322798310032276\n",
      "0.33333261434122735\n",
      "0.3333333331060954\n",
      "Number of iterations: 9\n"
     ]
    }
   ],
   "source": [
    "# Need to find 1/a\n",
    "a = 3\n",
    "x0 = 0.1\n",
    "f = lambda x: 1/x-a\n",
    "f_prime = lambda x: -1/(x**2)\n",
    "x = newton_method(f, f_prime, x0)\n",
    "# print(x)\n",
    "\n",
    "x1 = x0 * (1+0.1)\n",
    "x = secant_method(f, x0, x1)\n",
    "# print(x)"
   ]
  },
  {
   "cell_type": "code",
   "execution_count": 37,
   "metadata": {},
   "outputs": [
    {
     "name": "stdout",
     "output_type": "stream",
     "text": [
      "0.1\n",
      "-0.07\n",
      "0.17\n",
      "-0.0833\n",
      "0.2533\n",
      "-0.060817329999999975\n",
      "0.31411733\n",
      "-0.018108238981013318\n",
      "0.3322255689810133\n",
      "-0.0011040829267392192\n",
      "0.3333296519077525\n",
      "-3.681384922141448e-06\n",
      "0.3333333332926746\n",
      "-4.065873562764031e-11\n",
      "Number of iterations: 7\n",
      "0.7000000000000001\n",
      "0.5900000000000001\n",
      "0.05099999999999982\n",
      "0.5507300000000002\n",
      "0.5174683100000003\n",
      "0.21324234290109972\n",
      "0.3996721884966821\n",
      "0.35723342979545447\n",
      "0.3285768182205611\n",
      "0.3336743768433897\n",
      "0.33333819986916247\n",
      "0.3333333283542319\n",
      "Number of iterations: 12\n"
     ]
    }
   ],
   "source": [
    "# Need to find 1/a\n",
    "a = 3\n",
    "x0 = 0.1\n",
    "f = lambda x: 1/x-a\n",
    "f_prime = lambda x: -1/(x**2)\n",
    "x = newton_method(f, f_prime, x0)\n",
    "# print(x)\n",
    "\n",
    "x1 = x0 * (1+6)\n",
    "x = secant_method(f, x0, x1)\n",
    "# print(x)"
   ]
  },
  {
   "cell_type": "markdown",
   "metadata": {},
   "source": [
    "## Exercise 4"
   ]
  },
  {
   "cell_type": "code",
   "execution_count": 38,
   "metadata": {},
   "outputs": [],
   "source": [
    "def kahans_summation(input_array):\n",
    "    sum = 0.0\n",
    "    c = 0.0  # A running compensation for lost low-order bits.\n",
    "    for i in input_array:\n",
    "        y = i - c  # So far, so good: c is zero.\n",
    "        t = sum + y  # Alas, sum is big, y small, so low-order digits of y are lost.\n",
    "        c = (t - sum) - y  # (t - sum) recovers the high-order part of y; subtracting y recovers -(low part of y)\n",
    "        sum = t  # Algebraically, c should always be zero. Beware overly-aggressive optimizing compilers!\n",
    "    return sum"
   ]
  },
  {
   "cell_type": "code",
   "execution_count": 49,
   "metadata": {},
   "outputs": [
    {
     "data": {
      "text/plain": [
       "(-4.854427970713009e-14, -4.547473508864645e-16, 0.0)"
      ]
     },
     "execution_count": 49,
     "metadata": {},
     "output_type": "execute_result"
    }
   ],
   "source": [
    "# Calculate the sum of the series up to a large N using Kahan's algorithm\n",
    "rho = 0.999\n",
    "largest_i = 100000-1\n",
    "terms = [rho**i for i in range(largest_i+1)]  # Generate terms of the series\n",
    "\n",
    "sum_natural = sum(terms)\n",
    "sum_sorted = sum(terms[::-1]) + rho**(largest_i+1) / (1-rho)\n",
    "sum_kahan = kahans_summation(terms)\n",
    "\n",
    "# Exact sum using the geometric series formula\n",
    "exact_sum = 1 / (1 - rho)\n",
    "\n",
    "error_natural = (sum_natural-exact_sum)/exact_sum\n",
    "error_sorted = (sum_sorted-exact_sum)/exact_sum\n",
    "error_kahan = (sum_kahan-exact_sum)/exact_sum\n",
    "\n",
    "(error_natural, error_sorted, error_kahan)"
   ]
  }
 ],
 "metadata": {
  "kernelspec": {
   "display_name": "Python 3 (ipykernel)",
   "language": "python",
   "name": "python3"
  },
  "language_info": {
   "codemirror_mode": {
    "name": "ipython",
    "version": 3
   },
   "file_extension": ".py",
   "mimetype": "text/x-python",
   "name": "python",
   "nbconvert_exporter": "python",
   "pygments_lexer": "ipython3",
   "version": "3.10.4"
  }
 },
 "nbformat": 4,
 "nbformat_minor": 4
}
