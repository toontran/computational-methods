{
 "cells": [
  {
   "cell_type": "markdown",
   "metadata": {},
   "source": [
    "The finiteness of representation of real numbers on computers implies that two numbers cannot be arbitrarily close. This limit to accuracy relates to what is called\n",
    "machine precision, which on purpose is left undefined here.\n",
    "Write a small program that uses the bisection algorithm to find the double precision\n",
    "floating point number on your machine that is closest to 1, 512, and 65536. For each\n",
    "number do a separate search for two unit intervals, [0, 1] and [1, 2], [511, 512] and\n",
    "[512, 513], [65535, 65536] and [65536, 65537].\n",
    "How many steps did bisection take in each case and why? What can you tell about\n",
    "the closeness (see error) and the relative closeness (see relative error) of the pairs of\n",
    "numbers? You can use Matlab, C or any language you prefer. Report also your code\n",
    "and the output of your program.\n",
    "\n",
    " Compute the first four approximations of the root of the equation x\n",
    "3−1/27 = 0 in the\n",
    "interval [0, 1] using the bisection method. Now, compute the first four approximations\n",
    "using the Newton method with x0 = 1. Which convergence speed is faster? Do your\n",
    "observations agree with the theoretical convergence rates for each method?\n",
    "Newton will converge for any value of x0 except for one. Which one?\n",
    "\n",
    "Consider a function f(x) for which the Newton iteration alternates between two points\n",
    "(x0, x1, x0, x1, . . .) without x0, x1 being roots of f. What property should hold for this\n",
    "function for points (x0, x1)? Find a function with two such points which also has a\n",
    "solution to f(x) = 0.\n",
    "In class, we saw a function for which Newton was divergent for any x0. Can you find\n",
    "another one?\n",
    "\n",
    "\n",
    "As we discussed in class, when x∗ is a multiple root of f(x) = 0 of order m, Newton’s\n",
    "method converges only linearly with rate 1−1/m. Our proof was based on the Taylor’s\n",
    "expansion of f(x) = (x − x∗)\n",
    "mg(x), for some g(x) which is twice differentiable. For a\n",
    "function f with a root of multiplicity m, consider the iteration, xk+1 = ϕ(xk), where\n",
    "ϕ(x) = x − mf(x)/f′(x).\n",
    "Show that the iteration converges quadratically to the root x∗. Your proof should be\n",
    "based on the theory we developed for fixed point iteration convergence.\n",
    "\n"
   ]
  },
  {
   "cell_type": "code",
   "execution_count": 23,
   "metadata": {},
   "outputs": [
    {
     "name": "stdout",
     "output_type": "stream",
     "text": [
      "Interval [0, 1]: 53 steps, abs: 1.1102230246251565e-16, rel: 1.1102230246251565e-16\n",
      "Interval [1, 2]: 52 steps, abs: 2.220446049250313e-16, rel: 2.2204460492503126e-16\n",
      "Interval [511, 512]: 44 steps, abs: 5.684341886080802e-14, rel: 1.1102230246251565e-16\n",
      "Interval [512, 513]: 43 steps, abs: 1.1368683772161603e-13, rel: 2.2204460492503126e-16\n",
      "Interval [65535, 65536]: 37 steps, abs: 7.275957614183426e-12, rel: 1.1102230246251565e-16\n",
      "Interval [65536, 65537]: 36 steps, abs: 1.4551915228366852e-11, rel: 2.2204460492503126e-16\n"
     ]
    }
   ],
   "source": [
    "intervals = [[0, 1], [1, 2], [511, 512], [512, 513], [65535, 65536], [65536, 65537]]\n",
    "targets = [1, 512, 65536]\n",
    "    \n",
    "for interval in intervals:\n",
    "    i, j = interval\n",
    "    target = i if i in targets else j\n",
    "    temp = i\n",
    "    num_steps = 0\n",
    "    while True:\n",
    "        if target == j:\n",
    "            if temp < j:\n",
    "                i = temp\n",
    "            else:\n",
    "                num_steps -= 1\n",
    "                break\n",
    "        else:\n",
    "            if temp > i:\n",
    "                j = temp\n",
    "            elif temp == i and num_steps == 0:\n",
    "                pass\n",
    "            else:\n",
    "                num_steps -= 1\n",
    "                break\n",
    "        temp = (i+j)/2\n",
    "        num_steps += 1\n",
    "    print(f\"Interval {interval}: {num_steps} steps, abs: {j-i}, rel: {(j-i)/j}\")"
   ]
  },
  {
   "cell_type": "code",
   "execution_count": 20,
   "metadata": {},
   "outputs": [
    {
     "name": "stdout",
     "output_type": "stream",
     "text": [
      "0.16666666666666669\n",
      "-0.08333333333333331\n",
      "0.041666666666666685\n",
      "-0.020833333333333315\n"
     ]
    }
   ],
   "source": [
    "f = lambda x: x**3 - 1/27\n",
    "i = 0\n",
    "j = 1\n",
    "num_steps = 0\n",
    "max_num_steps = 4\n",
    "while True:   \n",
    "    temp = (i+j)/2\n",
    "    num_steps += 1\n",
    "    if max_num_steps > 0 and num_steps > max_num_steps:\n",
    "        break\n",
    "    elif f(i) * f(temp) > 0:\n",
    "        i = temp\n",
    "    elif f(i) * f(temp) < 0:\n",
    "        j = temp\n",
    "    else:  \n",
    "        break\n",
    "    print(temp-1/3)"
   ]
  },
  {
   "cell_type": "code",
   "execution_count": 21,
   "metadata": {},
   "outputs": [
    {
     "name": "stdout",
     "output_type": "stream",
     "text": [
      "0.34567901234567894 0.11949397957628405\n",
      "0.1461184232901404 0.021350593624796646\n",
      "0.040007461112169684 0.0016005969446417695\n",
      "0.004134086793956493 1.7090673619965476e-05\n"
     ]
    }
   ],
   "source": [
    "f_prime = lambda x: 3*x**2\n",
    "num_steps = 0\n",
    "max_num_steps = 4\n",
    "x = 1\n",
    "while True:\n",
    "    if max_num_steps > 0 and num_steps >= max_num_steps:\n",
    "        break\n",
    "     \n",
    "    x = x - f(x) / f_prime(x)\n",
    "    num_steps += 1\n",
    "    print(x-1/3, (x-1/3)**2)"
   ]
  },
  {
   "cell_type": "code",
   "execution_count": 19,
   "metadata": {},
   "outputs": [
    {
     "name": "stdout",
     "output_type": "stream",
     "text": [
      "Bisection: 0.34375, Newton's method: 0.3374674201272898\n"
     ]
    }
   ],
   "source": [
    "print(f\"Bisection: {(i+j)/2}, Newton's method: {x}\")"
   ]
  },
  {
   "cell_type": "code",
   "execution_count": null,
   "metadata": {},
   "outputs": [],
   "source": []
  }
 ],
 "metadata": {
  "kernelspec": {
   "display_name": "Monte Carlo Tree Search",
   "language": "python",
   "name": "mcts"
  },
  "language_info": {
   "codemirror_mode": {
    "name": "ipython",
    "version": 3
   },
   "file_extension": ".py",
   "mimetype": "text/x-python",
   "name": "python",
   "nbconvert_exporter": "python",
   "pygments_lexer": "ipython3",
   "version": "3.10.4"
  }
 },
 "nbformat": 4,
 "nbformat_minor": 4
}
